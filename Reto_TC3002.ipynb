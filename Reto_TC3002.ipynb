{
 "cells": [
  {
   "cell_type": "markdown",
   "metadata": {},
   "source": [
    "# Reto: Oprtimizar la ubicación de productos\n",
    "\n",
    "## Equipo - 6: The Three Engineers\n",
    "\n",
    "| Nombre                        | Matrícula |\n",
    "| :---------------------------- | :-------: |\n",
    "| Rubén Pablo Barraza Maldonado | A01570838 |\n",
    "| Rodrigo Zertuche López        | A00829401 |\n",
    "| Arturo Garza Campuzano        | A00828096 |\n",
    "\n",
    "## 1. Introducción\n",
    "\n",
    "La colocación estratégica de productos en una tienda es crucial para maximizar la probabilidad de venta de productos relacionados. La problemática radica en asignar de manera óptima los productos a los pasillos. Por ello, se tiene la necesidad de utilizar técnicas de aprendizaje automático para analizar patrones de compra y optimizar la colocación de productos."
   ]
  },
  {
   "cell_type": "markdown",
   "metadata": {},
   "source": [
    "## 2. Importación y carga de datos"
   ]
  },
  {
   "cell_type": "code",
   "execution_count": 1,
   "metadata": {},
   "outputs": [],
   "source": [
    "# Importar librerias\n",
    "import math\n",
    "import numpy as np\n",
    "import pandas as pd\n",
    "import random as rnd\n",
    "import seaborn as sns\n",
    "import matplotlib.pyplot as plt\n",
    "from scipy.stats import skew, kurtosis\n",
    "from matplotlib.ticker import ScalarFormatter\n",
    "\n",
    "# Lectura de datos\n",
    "aisles_df = pd.read_csv('Data/aisles.csv')\n",
    "departments_df = pd.read_csv('Data/departments.csv')\n",
    "orders_df = pd.read_csv('Data/orders.csv')\n",
    "order_products_prior_df = pd.read_csv('Data/order_products__prior.csv')\n",
    "order_products_train_df = pd.read_csv('Data/order_products__train.csv')\n",
    "products_df = pd.read_csv('Data/products.csv')"
   ]
  },
  {
   "cell_type": "markdown",
   "metadata": {},
   "source": [
    "Los diferentes archivos que conforman el conjunto de datos fueron fusionados en un solo dataframe, con el fin de facilitar el análisis y visualización de todo el conjunto de datos."
   ]
  },
  {
   "cell_type": "code",
   "execution_count": 2,
   "metadata": {},
   "outputs": [],
   "source": [
    "# Agrupa los datos de las tablas en un solo data frame\n",
    "order_products = pd.DataFrame()\n",
    "order_products = pd.concat([order_products_prior_df, order_products_train_df])\n",
    "order_products = order_products.merge(products_df, on = 'product_id', how = 'left')\n",
    "order_products = order_products.merge(aisles_df, on = 'aisle_id', how = 'left')\n",
    "order_products = order_products.merge(departments_df, on = 'department_id', how = 'left')\n",
    "order_products = order_products.merge(orders_df, on = 'order_id', how = 'left')\n",
    "order_products.head()"
   ]
  },
  {
   "cell_type": "markdown",
   "metadata": {},
   "source": [
    "## 3. Relación entre productos"
   ]
  },
  {
   "cell_type": "markdown",
   "metadata": {},
   "source": [
    "### 3.1 K-Means Clustering"
   ]
  },
  {
   "cell_type": "markdown",
   "metadata": {},
   "source": [
    "Se calcula la cantidad de veces que cada producto ha sido ordenado y se eliminan aquellos proudctos que hayan sido ordenados muy pocas veces; según el rango intercuartílico de la variable."
   ]
  },
  {
   "cell_type": "code",
   "execution_count": 4,
   "metadata": {},
   "outputs": [
    {
     "data": {
      "text/plain": [
       "count     49685.000000\n",
       "mean        680.670343\n",
       "std        4987.769425\n",
       "min           1.000000\n",
       "25%          18.000000\n",
       "50%          63.000000\n",
       "75%         272.000000\n",
       "max      491291.000000\n",
       "Name: product_count, dtype: float64"
      ]
     },
     "execution_count": 4,
     "metadata": {},
     "output_type": "execute_result"
    }
   ],
   "source": [
    "# Contar el numero de veces que cada producto ha sido ordenado\n",
    "product_order_counts = order_products.groupby('product_id').size().reset_index(name='product_count')\n",
    "\n",
    "# Mostrar estadisticos descriptivos\n",
    "product_order_counts['product_count'].describe()"
   ]
  },
  {
   "cell_type": "code",
   "execution_count": 5,
   "metadata": {},
   "outputs": [
    {
     "name": "stdout",
     "output_type": "stream",
     "text": [
      "42575\n"
     ]
    }
   ],
   "source": [
    "# Calcular cuartiles\n",
    "Q1 = product_order_counts['product_count'].quantile(0.25)\n",
    "Q3 = product_order_counts['product_count'].quantile(0.75)\n",
    "\n",
    "# Calcular el rango intercuartílico (IQR)\n",
    "IQR = Q3 - Q1\n",
    "\n",
    "# Definir los limites para detectar los outliers\n",
    "lower_limit = Q1 - 1.5 * IQR\n",
    "upper_limit = Q3 + 1.5 * IQR\n",
    "\n",
    "# Filtrar los datos para eliminar los outliers\n",
    "product_order_counts_filtered = product_order_counts[(product_order_counts['product_count'] >= lower_limit) & (product_order_counts['product_count'] <= upper_limit)]\n",
    "\n",
    "# Mostrar estadisticos descriptivos\n",
    "product_order_counts_filtered['product_count'].describe()"
   ]
  },
  {
   "cell_type": "markdown",
   "metadata": {},
   "source": [
    "Se calcula la cantidad de productos comprados por cada usuario y se eliminan aquellos usuarios que hayan comprado muy pocos productos; según el rango intercuartílico de la variable."
   ]
  },
  {
   "cell_type": "code",
   "execution_count": 6,
   "metadata": {},
   "outputs": [
    {
     "data": {
      "text/plain": [
       "count    206209.000000\n",
       "mean        164.004025\n",
       "std         206.014923\n",
       "min           3.000000\n",
       "25%          44.000000\n",
       "50%          90.000000\n",
       "75%         196.000000\n",
       "max        3725.000000\n",
       "Name: product_count, dtype: float64"
      ]
     },
     "execution_count": 6,
     "metadata": {},
     "output_type": "execute_result"
    }
   ],
   "source": [
    "# Contar la cantidad de productos comprados por cada usuario\n",
    "productos_user_counts = order_products.groupby('user_id').size().reset_index(name='product_count')\n",
    "\n",
    "productos_user_counts['product_count'].describe()"
   ]
  },
  {
   "cell_type": "code",
   "execution_count": 7,
   "metadata": {},
   "outputs": [
    {
     "name": "stdout",
     "output_type": "stream",
     "text": [
      "187868\n"
     ]
    }
   ],
   "source": [
    "# Calcular cuartiles\n",
    "Q1 = productos_user_counts['product_count'].quantile(0.25)\n",
    "Q3 = productos_user_counts['product_count'].quantile(0.75)\n",
    "\n",
    "# Calcular el rango intercuartílico (IQR)\n",
    "IQR = Q3 - Q1\n",
    "\n",
    "# Definir los límites para detectar los outliers\n",
    "lower_limit = Q1 - 1.5 * IQR\n",
    "upper_limit = Q3 + 1.5 * IQR\n",
    "\n",
    "# Filtrar los datos para eliminar los outliers\n",
    "productos_user_counts_filtered = productos_user_counts[(productos_user_counts['product_count'] >= lower_limit) & (productos_user_counts['product_count'] <= upper_limit)]\n",
    "productos_user_counts_filtered['product_count'].describe()"
   ]
  },
  {
   "cell_type": "markdown",
   "metadata": {},
   "source": [
    "Se filtra el dataframe principal para reducir la cantidad de registros."
   ]
  },
  {
   "cell_type": "code",
   "execution_count": 8,
   "metadata": {},
   "outputs": [
    {
     "name": "stdout",
     "output_type": "stream",
     "text": [
      "33819106\n",
      "3073472\n"
     ]
    }
   ],
   "source": [
    "# Obtener los conjuntos filtrados de productos y usuarios\n",
    "filtered_product_ids = product_order_counts_filtered['product_id'].tolist()\n",
    "filtered_user_ids = productos_user_counts_filtered['user_id'].tolist()\n",
    "\n",
    "# Filtrar el dataframe original para incluir solo los que no son outliers\n",
    "filtered_order_products = order_products[(order_products['product_id'].isin(filtered_product_ids)) & (order_products['user_id'].isin(filtered_user_ids))]\n",
    "\n",
    "filtered_order_products.describe()"
   ]
  },
  {
   "cell_type": "markdown",
   "metadata": {},
   "source": [
    "Se realiza un intento de elaborar una tabla con los usuarios y los productos que han comprado, especificando también su cantidad. No obstante, el kernel no pudo ejecutar la línea de código debido a su complejidad computacional: /var/folders/1l/48wfxxd93tx624h4f207pz180000gp/T/ipykernel_51289/2200060898.py:1: PerformanceWarning: The following operation may generate 7367292426 cells in the resulting pandas object. cross_order_product = pd.crosstab(filtered_order_products.user_id, filtered_order_products.product_id). Por lo tanto, no es posible realizar un agrupamiento de usuarios y producto específicos para este conjunto de datos. Sin embargo, se propone realizar el agrupamiento a nivel pasillo y departamento; con el propósito de identificar a los distintos grupos de usuarios."
   ]
  },
  {
   "cell_type": "code",
   "execution_count": 26,
   "metadata": {},
   "outputs": [
    {
     "name": "stderr",
     "output_type": "stream",
     "text": [
      "/var/folders/1l/48wfxxd93tx624h4f207pz180000gp/T/ipykernel_51289/2200060898.py:1: PerformanceWarning: The following operation may generate 7367292426 cells in the resulting pandas object.\n",
      "  cross_order_product = pd.crosstab(filtered_order_products.user_id, filtered_order_products.product_id)\n"
     ]
    },
    {
     "ename": "",
     "evalue": "",
     "output_type": "error",
     "traceback": [
      "\u001b[1;31mEl kernel se bloqueó al ejecutar código en la celda actual o en una celda anterior. \n",
      "\u001b[1;31mRevise el código de las celdas para identificar una posible causa del error. \n",
      "\u001b[1;31mHaga clic <a href='https://aka.ms/vscodeJupyterKernelCrash'>aquí</a> para obtener más información. \n",
      "\u001b[1;31mVea Jupyter <a href='command:jupyter.viewOutput'>log</a> para obtener más detalles."
     ]
    }
   ],
   "source": [
    "cross_order_product = pd.crosstab(filtered_order_products.user_id, filtered_order_products.product_id)\n",
    "cross_order_product.tail(20)"
   ]
  },
  {
   "cell_type": "code",
   "execution_count": null,
   "metadata": {},
   "outputs": [],
   "source": [
    "# Agrupar los usuarios junto con los pasillos y los departamentos para categorizarlos."
   ]
  },
  {
   "cell_type": "markdown",
   "metadata": {},
   "source": [
    "### 3.2 Market Basket Analysis with Association Rules"
   ]
  }
 ],
 "metadata": {
  "kernelspec": {
   "display_name": "Python 3",
   "language": "python",
   "name": "python3"
  },
  "language_info": {
   "codemirror_mode": {
    "name": "ipython",
    "version": 3
   },
   "file_extension": ".py",
   "mimetype": "text/x-python",
   "name": "python",
   "nbconvert_exporter": "python",
   "pygments_lexer": "ipython3",
   "version": "3.11.7"
  }
 },
 "nbformat": 4,
 "nbformat_minor": 2
}
